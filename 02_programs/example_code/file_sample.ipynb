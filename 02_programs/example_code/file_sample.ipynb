{
 "cells": [
  {
   "cell_type": "markdown",
   "metadata": {},
   "source": [
    "This code will randomly select files in the Semantic Scholar Open Research Corpus (S2ORC) for manual classification.  S2ORC is a general-purpose corpus for NLP and text mining research over scientific papers.  \n",
    "\n"
   ]
  },
  {
   "cell_type": "code",
   "execution_count": 1,
   "metadata": {},
   "outputs": [],
   "source": [
    "#load all packages\n",
    "\n",
    "import pandas as pd\n",
    "import json\n",
    "import spacy\n",
    "import os\n",
    "import gzip\n",
    "\n"
   ]
  },
  {
   "cell_type": "code",
   "execution_count": 6,
   "metadata": {},
   "outputs": [],
   "source": [
    "\n",
    "\n",
    "#read in sample json from metadata\n",
    "meta_path='/media/brian/Elements/SPI/s2orc_data_use/data/metadata/included/metadata_0.jsonl'\n",
    "\n",
    "meta_raw = pd.read_json(meta_path, lines=True)\n",
    "\n",
    "meta_raw.head()\n",
    "\n",
    "#drop fields from list\n",
    "excluded_fields = [ 'Biology','Chemistry', 'Engineering', 'Physics','Material Science', 'Geology', 'Art']\n",
    "\n",
    "meta_frame = meta_raw[~meta_raw.mag_field_of_study.isin(excluded_fields)]\n",
    "\n"
   ]
  },
  {
   "cell_type": "code",
   "execution_count": 7,
   "metadata": {},
   "outputs": [
    {
     "data": {
      "text/plain": [
       "0             [Medicine]\n",
       "1            [Chemistry]\n",
       "2            [Chemistry]\n",
       "3    [Materials Science]\n",
       "4            [Chemistry]\n",
       "Name: mag_field_of_study, dtype: object"
      ]
     },
     "execution_count": 7,
     "metadata": {},
     "output_type": "execute_result"
    }
   ],
   "source": [
    "meta_raw.mag_field_of_study.head()\n"
   ]
  },
  {
   "cell_type": "markdown",
   "metadata": {},
   "source": [
    "Now randomly select 50 of them and export to excel"
   ]
  },
  {
   "cell_type": "code",
   "execution_count": 22,
   "metadata": {},
   "outputs": [],
   "source": [
    "#take set of 50\n",
    "sample=meta_samp.sample(n=50)\n",
    "\n",
    "#export to excel\n",
    "excel_path='/media/brian/Elements/SPI/s2orc_data_use/data/classification_set/s2orc_sample_50.csv'\n",
    "\n",
    "sample.to_csv(excel_path)\n"
   ]
  },
  {
   "cell_type": "code",
   "execution_count": 51,
   "metadata": {},
   "outputs": [],
   "source": [
    "# Now take just a set of social science papers\n",
    "excluded_fields = ['[Medicine]', '[Biology]','[Chemistry]', '[Engineering]', '[Physics]','[Material Science]', '[Geology]', '[Art]']\n",
    "\n",
    "sample_ss=meta_samp[~meta_samp['mag_field_of_study'].isin(excluded_fields)]\n",
    "\n",
    "sample_ss=sample_ss.sample(n=50)\n",
    "\n",
    "excel_path='/media/brian/Elements/SPI/s2orc_data_use/data/classification_set/s2orc_sample_social_science_50.csv'\n",
    "sample.to_csv(excel_path)\n"
   ]
  },
  {
   "cell_type": "code",
   "execution_count": 52,
   "metadata": {},
   "outputs": [
    {
     "data": {
      "text/plain": [
       "12605                       [Chemistry, Medicine]\n",
       "25964                          [Computer Science]\n",
       "273154    [Economics, Business, Computer Science]\n",
       "192651                         [Computer Science]\n",
       "121435                                  [Physics]\n",
       "21676                                        None\n",
       "223784                                [Economics]\n",
       "217632                                [Sociology]\n",
       "106697                                  [Geology]\n",
       "199443                                       None\n",
       "8572              [Mathematics, Computer Science]\n",
       "119424            [Mathematics, Computer Science]\n",
       "140192                                  [Physics]\n",
       "81663                                  [Medicine]\n",
       "28054                                        None\n",
       "310440                                 [Business]\n",
       "303854                                       None\n",
       "172951                                [Sociology]\n",
       "272284                        [Biology, Medicine]\n",
       "169987                              [Engineering]\n",
       "211189                      [Chemistry, Medicine]\n",
       "99140                                        None\n",
       "266719                                       None\n",
       "14659                                   [Physics]\n",
       "187447                     [Economics, Geography]\n",
       "6291                                         None\n",
       "151051                                       None\n",
       "189663                                       None\n",
       "245722                                 [Medicine]\n",
       "198037                                 [Medicine]\n",
       "269380                                 [Medicine]\n",
       "56627                               [Mathematics]\n",
       "22414                                        None\n",
       "243420                                  [Physics]\n",
       "27725                         [Biology, Medicine]\n",
       "228794            [Mathematics, Computer Science]\n",
       "123649                     [Physics, Mathematics]\n",
       "308400                                       None\n",
       "252903                                 [Medicine]\n",
       "208442                                       None\n",
       "283564                         [Computer Science]\n",
       "273025                                 [Medicine]\n",
       "205424                                 [Medicine]\n",
       "266226                         [Computer Science]\n",
       "80759                                        None\n",
       "206822                                       None\n",
       "77091                         [Political Science]\n",
       "154061                                 [Medicine]\n",
       "100515                        [Medicine, Biology]\n",
       "263608                         [Computer Science]\n",
       "Name: mag_field_of_study, dtype: object"
      ]
     },
     "execution_count": 52,
     "metadata": {},
     "output_type": "execute_result"
    }
   ],
   "source": [
    "sample_ss.mag_field_of_study\n",
    "\n"
   ]
  }
 ],
 "metadata": {
  "interpreter": {
   "hash": "ecf5722fdaf1897a315d257d89d94520bfcaa453217d5becf09b39e73618b0de"
  },
  "kernelspec": {
   "display_name": "Python 3.9.5 64-bit ('base': conda)",
   "language": "python",
   "name": "python3"
  },
  "language_info": {
   "codemirror_mode": {
    "name": "ipython",
    "version": 3
   },
   "file_extension": ".py",
   "mimetype": "text/x-python",
   "name": "python",
   "nbconvert_exporter": "python",
   "pygments_lexer": "ipython3",
   "version": "3.8.10"
  },
  "orig_nbformat": 4
 },
 "nbformat": 4,
 "nbformat_minor": 2
}
